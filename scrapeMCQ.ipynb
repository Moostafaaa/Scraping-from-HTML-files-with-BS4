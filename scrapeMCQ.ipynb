{
  "nbformat": 4,
  "nbformat_minor": 0,
  "metadata": {
    "colab": {
      "provenance": [],
      "gpuType": "T4",
      "authorship_tag": "ABX9TyNP6gUdq7tLwPn2oNTWeKSp",
      "include_colab_link": true
    },
    "kernelspec": {
      "name": "python3",
      "display_name": "Python 3"
    },
    "language_info": {
      "name": "python"
    },
    "accelerator": "GPU"
  },
  "cells": [
    {
      "cell_type": "markdown",
      "metadata": {
        "id": "view-in-github",
        "colab_type": "text"
      },
      "source": [
        "<a href=\"https://colab.research.google.com/github/Moostafaaa/Scraping-from-HTML-files-with-BS4/blob/main/scrapeMCQ.ipynb\" target=\"_parent\"><img src=\"https://colab.research.google.com/assets/colab-badge.svg\" alt=\"Open In Colab\"/></a>"
      ]
    },
    {
      "cell_type": "code",
      "execution_count": null,
      "metadata": {
        "id": "IpXnMsE9R_tq"
      },
      "outputs": [],
      "source": [
        "import pandas as pd\n",
        "import numpy as np"
      ]
    },
    {
      "cell_type": "code",
      "source": [
        "import requests\n",
        "from bs4 import BeautifulSoup"
      ],
      "metadata": {
        "id": "68E0eKbiSIJS"
      },
      "execution_count": null,
      "outputs": []
    },
    {
      "cell_type": "code",
      "source": [
        "a = []\n",
        "b = []\n",
        "c = []\n",
        "d = []\n",
        "for i in bts:\n",
        "  if i.get_text().startswith('a') :\n",
        "    if i.get_text()[3:] == 'True' or i.get_text()[3:] == 'False':\n",
        "      break\n",
        "    else:\n",
        "      a.append(i.get_text()[3:])\n",
        "  elif i.get_text().startswith('b') :\n",
        "    b.append(i.get_text()[3:])\n",
        "  elif i.get_text().startswith('c') :\n",
        "    c.append(i.get_text()[3:])\n",
        "  elif i.get_text().startswith('d') :\n",
        "    d.append(i.get_text()[3:])\n",
        "  else:\n",
        "    continue"
      ],
      "metadata": {
        "id": "kSFJ6N4LbwKv"
      },
      "execution_count": null,
      "outputs": []
    },
    {
      "cell_type": "code",
      "source": [
        "def make_df(path):\n",
        "  a = []\n",
        "  b = []\n",
        "  c = []\n",
        "  d = []\n",
        "  answers = []\n",
        "  questions=[]\n",
        "\n",
        "  page = open(path)\n",
        "  soup = BeautifulSoup(page.read())\n",
        "\n",
        "  qs = soup.find_all('p', attrs = { 'class' : \"mcq-statement\" })\n",
        "  ans = soup.find_all('p', attrs = { 'class' : \"mcq-answer\" })\n",
        "  choices = soup.find_all('button', attrs={'class': \"mcq-option\"})\n",
        "\n",
        "  for i in choices:\n",
        "    if i.get_text().startswith('a') :\n",
        "      if i.get_text()[3:] == 'True' or i.get_text()[3:] == 'False':\n",
        "        continue\n",
        "      else:\n",
        "        a.append(i.get_text()[3:])\n",
        "    elif i.get_text().startswith('b') :\n",
        "      b.append(i.get_text()[3:])\n",
        "    elif i.get_text().startswith('c') :\n",
        "      c.append(i.get_text()[3:])\n",
        "    elif i.get_text().startswith('d') :\n",
        "      d.append(i.get_text()[3:])\n",
        "    else:\n",
        "      continue\n",
        "\n",
        "  for answer in ans:\n",
        "      answers.append( answer.get_text()[-1].upper() )\n",
        "\n",
        "  for q in qs:\n",
        "      questions.append( q.get_text()[4:] )\n",
        "\n",
        "  df = pd.DataFrame( list(zip(questions, a, b, c, d, answers)), columns =['prompt', 'A','B','C','D','answer'])\n",
        "  return df"
      ],
      "metadata": {
        "id": "SG8orbvohqNQ"
      },
      "execution_count": null,
      "outputs": []
    },
    {
      "cell_type": "code",
      "source": [
        "df = make_df('/content/mcqs (1).html')"
      ],
      "metadata": {
        "id": "F-6FNr7P0klH"
      },
      "execution_count": null,
      "outputs": []
    },
    {
      "cell_type": "code",
      "source": [
        "df"
      ],
      "metadata": {
        "colab": {
          "base_uri": "https://localhost:8080/",
          "height": 550
        },
        "id": "zPLvrjxI0p2N",
        "outputId": "62e322a3-1485-4174-ba2a-5948217ecf8e"
      },
      "execution_count": null,
      "outputs": [
        {
          "output_type": "execute_result",
          "data": {
            "text/plain": [
              "                                               prompt                     A  \\\n",
              "0   What is the structural and functional unit of ...                Neuron   \n",
              "1   Nerve cell does not divide because they do not...               Nucleus   \n",
              "2              Node of Ranvier is found in __________        Muscle bundles   \n",
              "3              How many types of neurons are present?                     2   \n",
              "4   Neurotransmission through a synapse is always ...         Axon, Dendron   \n",
              "5         Reflex action is controlled by ____________           Spinal cord   \n",
              "6   Connection between axon and dendrite is called...              Synapsis   \n",
              "7   From where does the formation of a neural tube...              Ectoderm   \n",
              "8   The anterior end of neural tube becomes ______...           Spinal cord   \n",
              "9    Neuronal migration is the method by which neu...  Neuron support cells   \n",
              "10                  Which is not true of glial cells?                     8   \n",
              "\n",
              "                                     B                                 C  \\\n",
              "0                              Dendron                              Axon   \n",
              "1                           Centrosome                        Golgi body   \n",
              "2                            Dendrites                    Right auricles   \n",
              "3                                    1                                 3   \n",
              "4                        Dendron, Axon                Brain, spinal cord   \n",
              "5                                  ANS                               PNS   \n",
              "6                              Synapse                         Desmosome   \n",
              "7                             Endoderm                          Mesoderm   \n",
              "8                                Brain                              Axon   \n",
              "9                                False  Are not able to divide in adults   \n",
              "10  Retain ability to divide in adults                                 7   \n",
              "\n",
              "                             D answer  \n",
              "0                        Brain      A  \n",
              "1                 Mitochondria      B  \n",
              "2                         Axon      D  \n",
              "3                            4      C  \n",
              "4           Spinal cord, brain      A  \n",
              "5   Sympathetic nervous system      A  \n",
              "6               Tight junction      B  \n",
              "7                  Spinal cord      A  \n",
              "8                     Backbone      B  \n",
              "9      Develop from glioblasts      A  \n",
              "10                          10      C  "
            ],
            "text/html": [
              "\n",
              "  <div id=\"df-c65ef20d-5a46-48b2-aeec-d8b91cd5924f\" class=\"colab-df-container\">\n",
              "    <div>\n",
              "<style scoped>\n",
              "    .dataframe tbody tr th:only-of-type {\n",
              "        vertical-align: middle;\n",
              "    }\n",
              "\n",
              "    .dataframe tbody tr th {\n",
              "        vertical-align: top;\n",
              "    }\n",
              "\n",
              "    .dataframe thead th {\n",
              "        text-align: right;\n",
              "    }\n",
              "</style>\n",
              "<table border=\"1\" class=\"dataframe\">\n",
              "  <thead>\n",
              "    <tr style=\"text-align: right;\">\n",
              "      <th></th>\n",
              "      <th>prompt</th>\n",
              "      <th>A</th>\n",
              "      <th>B</th>\n",
              "      <th>C</th>\n",
              "      <th>D</th>\n",
              "      <th>answer</th>\n",
              "    </tr>\n",
              "  </thead>\n",
              "  <tbody>\n",
              "    <tr>\n",
              "      <th>0</th>\n",
              "      <td>What is the structural and functional unit of ...</td>\n",
              "      <td>Neuron</td>\n",
              "      <td>Dendron</td>\n",
              "      <td>Axon</td>\n",
              "      <td>Brain</td>\n",
              "      <td>A</td>\n",
              "    </tr>\n",
              "    <tr>\n",
              "      <th>1</th>\n",
              "      <td>Nerve cell does not divide because they do not...</td>\n",
              "      <td>Nucleus</td>\n",
              "      <td>Centrosome</td>\n",
              "      <td>Golgi body</td>\n",
              "      <td>Mitochondria</td>\n",
              "      <td>B</td>\n",
              "    </tr>\n",
              "    <tr>\n",
              "      <th>2</th>\n",
              "      <td>Node of Ranvier is found in __________</td>\n",
              "      <td>Muscle bundles</td>\n",
              "      <td>Dendrites</td>\n",
              "      <td>Right auricles</td>\n",
              "      <td>Axon</td>\n",
              "      <td>D</td>\n",
              "    </tr>\n",
              "    <tr>\n",
              "      <th>3</th>\n",
              "      <td>How many types of neurons are present?</td>\n",
              "      <td>2</td>\n",
              "      <td>1</td>\n",
              "      <td>3</td>\n",
              "      <td>4</td>\n",
              "      <td>C</td>\n",
              "    </tr>\n",
              "    <tr>\n",
              "      <th>4</th>\n",
              "      <td>Neurotransmission through a synapse is always ...</td>\n",
              "      <td>Axon, Dendron</td>\n",
              "      <td>Dendron, Axon</td>\n",
              "      <td>Brain, spinal cord</td>\n",
              "      <td>Spinal cord, brain</td>\n",
              "      <td>A</td>\n",
              "    </tr>\n",
              "    <tr>\n",
              "      <th>5</th>\n",
              "      <td>Reflex action is controlled by ____________</td>\n",
              "      <td>Spinal cord</td>\n",
              "      <td>ANS</td>\n",
              "      <td>PNS</td>\n",
              "      <td>Sympathetic nervous system</td>\n",
              "      <td>A</td>\n",
              "    </tr>\n",
              "    <tr>\n",
              "      <th>6</th>\n",
              "      <td>Connection between axon and dendrite is called...</td>\n",
              "      <td>Synapsis</td>\n",
              "      <td>Synapse</td>\n",
              "      <td>Desmosome</td>\n",
              "      <td>Tight junction</td>\n",
              "      <td>B</td>\n",
              "    </tr>\n",
              "    <tr>\n",
              "      <th>7</th>\n",
              "      <td>From where does the formation of a neural tube...</td>\n",
              "      <td>Ectoderm</td>\n",
              "      <td>Endoderm</td>\n",
              "      <td>Mesoderm</td>\n",
              "      <td>Spinal cord</td>\n",
              "      <td>A</td>\n",
              "    </tr>\n",
              "    <tr>\n",
              "      <th>8</th>\n",
              "      <td>The anterior end of neural tube becomes ______...</td>\n",
              "      <td>Spinal cord</td>\n",
              "      <td>Brain</td>\n",
              "      <td>Axon</td>\n",
              "      <td>Backbone</td>\n",
              "      <td>B</td>\n",
              "    </tr>\n",
              "    <tr>\n",
              "      <th>9</th>\n",
              "      <td>Neuronal migration is the method by which neu...</td>\n",
              "      <td>Neuron support cells</td>\n",
              "      <td>False</td>\n",
              "      <td>Are not able to divide in adults</td>\n",
              "      <td>Develop from glioblasts</td>\n",
              "      <td>A</td>\n",
              "    </tr>\n",
              "    <tr>\n",
              "      <th>10</th>\n",
              "      <td>Which is not true of glial cells?</td>\n",
              "      <td>8</td>\n",
              "      <td>Retain ability to divide in adults</td>\n",
              "      <td>7</td>\n",
              "      <td>10</td>\n",
              "      <td>C</td>\n",
              "    </tr>\n",
              "  </tbody>\n",
              "</table>\n",
              "</div>\n",
              "    <div class=\"colab-df-buttons\">\n",
              "\n",
              "  <div class=\"colab-df-container\">\n",
              "    <button class=\"colab-df-convert\" onclick=\"convertToInteractive('df-c65ef20d-5a46-48b2-aeec-d8b91cd5924f')\"\n",
              "            title=\"Convert this dataframe to an interactive table.\"\n",
              "            style=\"display:none;\">\n",
              "\n",
              "  <svg xmlns=\"http://www.w3.org/2000/svg\" height=\"24px\" viewBox=\"0 -960 960 960\">\n",
              "    <path d=\"M120-120v-720h720v720H120Zm60-500h600v-160H180v160Zm220 220h160v-160H400v160Zm0 220h160v-160H400v160ZM180-400h160v-160H180v160Zm440 0h160v-160H620v160ZM180-180h160v-160H180v160Zm440 0h160v-160H620v160Z\"/>\n",
              "  </svg>\n",
              "    </button>\n",
              "\n",
              "  <style>\n",
              "    .colab-df-container {\n",
              "      display:flex;\n",
              "      gap: 12px;\n",
              "    }\n",
              "\n",
              "    .colab-df-convert {\n",
              "      background-color: #E8F0FE;\n",
              "      border: none;\n",
              "      border-radius: 50%;\n",
              "      cursor: pointer;\n",
              "      display: none;\n",
              "      fill: #1967D2;\n",
              "      height: 32px;\n",
              "      padding: 0 0 0 0;\n",
              "      width: 32px;\n",
              "    }\n",
              "\n",
              "    .colab-df-convert:hover {\n",
              "      background-color: #E2EBFA;\n",
              "      box-shadow: 0px 1px 2px rgba(60, 64, 67, 0.3), 0px 1px 3px 1px rgba(60, 64, 67, 0.15);\n",
              "      fill: #174EA6;\n",
              "    }\n",
              "\n",
              "    .colab-df-buttons div {\n",
              "      margin-bottom: 4px;\n",
              "    }\n",
              "\n",
              "    [theme=dark] .colab-df-convert {\n",
              "      background-color: #3B4455;\n",
              "      fill: #D2E3FC;\n",
              "    }\n",
              "\n",
              "    [theme=dark] .colab-df-convert:hover {\n",
              "      background-color: #434B5C;\n",
              "      box-shadow: 0px 1px 3px 1px rgba(0, 0, 0, 0.15);\n",
              "      filter: drop-shadow(0px 1px 2px rgba(0, 0, 0, 0.3));\n",
              "      fill: #FFFFFF;\n",
              "    }\n",
              "  </style>\n",
              "\n",
              "    <script>\n",
              "      const buttonEl =\n",
              "        document.querySelector('#df-c65ef20d-5a46-48b2-aeec-d8b91cd5924f button.colab-df-convert');\n",
              "      buttonEl.style.display =\n",
              "        google.colab.kernel.accessAllowed ? 'block' : 'none';\n",
              "\n",
              "      async function convertToInteractive(key) {\n",
              "        const element = document.querySelector('#df-c65ef20d-5a46-48b2-aeec-d8b91cd5924f');\n",
              "        const dataTable =\n",
              "          await google.colab.kernel.invokeFunction('convertToInteractive',\n",
              "                                                    [key], {});\n",
              "        if (!dataTable) return;\n",
              "\n",
              "        const docLinkHtml = 'Like what you see? Visit the ' +\n",
              "          '<a target=\"_blank\" href=https://colab.research.google.com/notebooks/data_table.ipynb>data table notebook</a>'\n",
              "          + ' to learn more about interactive tables.';\n",
              "        element.innerHTML = '';\n",
              "        dataTable['output_type'] = 'display_data';\n",
              "        await google.colab.output.renderOutput(dataTable, element);\n",
              "        const docLink = document.createElement('div');\n",
              "        docLink.innerHTML = docLinkHtml;\n",
              "        element.appendChild(docLink);\n",
              "      }\n",
              "    </script>\n",
              "  </div>\n",
              "\n",
              "\n",
              "<div id=\"df-571f6b74-fe67-48d6-86d9-3ce93fa43ddb\">\n",
              "  <button class=\"colab-df-quickchart\" onclick=\"quickchart('df-571f6b74-fe67-48d6-86d9-3ce93fa43ddb')\"\n",
              "            title=\"Suggest charts.\"\n",
              "            style=\"display:none;\">\n",
              "\n",
              "<svg xmlns=\"http://www.w3.org/2000/svg\" height=\"24px\"viewBox=\"0 0 24 24\"\n",
              "     width=\"24px\">\n",
              "    <g>\n",
              "        <path d=\"M19 3H5c-1.1 0-2 .9-2 2v14c0 1.1.9 2 2 2h14c1.1 0 2-.9 2-2V5c0-1.1-.9-2-2-2zM9 17H7v-7h2v7zm4 0h-2V7h2v10zm4 0h-2v-4h2v4z\"/>\n",
              "    </g>\n",
              "</svg>\n",
              "  </button>\n",
              "\n",
              "<style>\n",
              "  .colab-df-quickchart {\n",
              "    background-color: #E8F0FE;\n",
              "    border: none;\n",
              "    border-radius: 50%;\n",
              "    cursor: pointer;\n",
              "    display: none;\n",
              "    fill: #1967D2;\n",
              "    height: 32px;\n",
              "    padding: 0 0 0 0;\n",
              "    width: 32px;\n",
              "  }\n",
              "\n",
              "  .colab-df-quickchart:hover {\n",
              "    background-color: #E2EBFA;\n",
              "    box-shadow: 0px 1px 2px rgba(60, 64, 67, 0.3), 0px 1px 3px 1px rgba(60, 64, 67, 0.15);\n",
              "    fill: #174EA6;\n",
              "  }\n",
              "\n",
              "  [theme=dark] .colab-df-quickchart {\n",
              "    background-color: #3B4455;\n",
              "    fill: #D2E3FC;\n",
              "  }\n",
              "\n",
              "  [theme=dark] .colab-df-quickchart:hover {\n",
              "    background-color: #434B5C;\n",
              "    box-shadow: 0px 1px 3px 1px rgba(0, 0, 0, 0.15);\n",
              "    filter: drop-shadow(0px 1px 2px rgba(0, 0, 0, 0.3));\n",
              "    fill: #FFFFFF;\n",
              "  }\n",
              "</style>\n",
              "\n",
              "  <script>\n",
              "    async function quickchart(key) {\n",
              "      const charts = await google.colab.kernel.invokeFunction(\n",
              "          'suggestCharts', [key], {});\n",
              "    }\n",
              "    (() => {\n",
              "      let quickchartButtonEl =\n",
              "        document.querySelector('#df-571f6b74-fe67-48d6-86d9-3ce93fa43ddb button');\n",
              "      quickchartButtonEl.style.display =\n",
              "        google.colab.kernel.accessAllowed ? 'block' : 'none';\n",
              "    })();\n",
              "  </script>\n",
              "</div>\n",
              "    </div>\n",
              "  </div>\n"
            ]
          },
          "metadata": {},
          "execution_count": 123
        }
      ]
    },
    {
      "cell_type": "code",
      "source": [
        "df3 = pd.concat([df,df1,df2])"
      ],
      "metadata": {
        "id": "E1SsSga6w907"
      },
      "execution_count": null,
      "outputs": []
    },
    {
      "cell_type": "code",
      "source": [
        "df3.to_csv('one.csv')"
      ],
      "metadata": {
        "id": "PI80XhKCw_12"
      },
      "execution_count": null,
      "outputs": []
    },
    {
      "cell_type": "code",
      "source": [
        "import os\n",
        "\n",
        "# Directory path\n",
        "directory = '/content/sr_files'\n",
        "\n",
        "# Get all files in the directory\n",
        "files = os.listdir(directory)\n",
        "\n",
        "# Sort the files alphabetically\n",
        "files.sort()\n",
        "\n",
        "# Get the number of files\n",
        "n = len(files)\n",
        "\n",
        "# Loop over each file\n",
        "for i, file_name in enumerate(files):\n",
        "    # Create a new variable for each file\n",
        "    variable_name = f'file_{i + 1}'\n",
        "    file_path = os.path.join(directory, file_name)\n",
        "\n",
        "    # Store the file path as a string in the variable\n",
        "    locals()[variable_name] = file_path\n",
        "\n",
        "    # Optionally, you can print the variable to verify its contents\n",
        "    print(f\"Variable '{variable_name}' created with file path: {locals()[variable_name]}\\n\")"
      ],
      "metadata": {
        "id": "JNnTOl5E4BRN",
        "colab": {
          "base_uri": "https://localhost:8080/"
        },
        "outputId": "f1d3ec3d-dd97-4d7f-d057-f21d963fa2b8"
      },
      "execution_count": null,
      "outputs": [
        {
          "output_type": "stream",
          "name": "stdout",
          "text": [
            "Variable 'file_1' created with file path: /content/sr_files/mcqs (1).html\n",
            "\n",
            "Variable 'file_2' created with file path: /content/sr_files/mcqs (10).html\n",
            "\n",
            "Variable 'file_3' created with file path: /content/sr_files/mcqs (11).html\n",
            "\n",
            "Variable 'file_4' created with file path: /content/sr_files/mcqs (12).html\n",
            "\n",
            "Variable 'file_5' created with file path: /content/sr_files/mcqs (13).html\n",
            "\n",
            "Variable 'file_6' created with file path: /content/sr_files/mcqs (14).html\n",
            "\n",
            "Variable 'file_7' created with file path: /content/sr_files/mcqs (15).html\n",
            "\n",
            "Variable 'file_8' created with file path: /content/sr_files/mcqs (16).html\n",
            "\n",
            "Variable 'file_9' created with file path: /content/sr_files/mcqs (17).html\n",
            "\n",
            "Variable 'file_10' created with file path: /content/sr_files/mcqs (18).html\n",
            "\n",
            "Variable 'file_11' created with file path: /content/sr_files/mcqs (19).html\n",
            "\n",
            "Variable 'file_12' created with file path: /content/sr_files/mcqs (2).html\n",
            "\n",
            "Variable 'file_13' created with file path: /content/sr_files/mcqs (20).html\n",
            "\n",
            "Variable 'file_14' created with file path: /content/sr_files/mcqs (21).html\n",
            "\n",
            "Variable 'file_15' created with file path: /content/sr_files/mcqs (22).html\n",
            "\n",
            "Variable 'file_16' created with file path: /content/sr_files/mcqs (23).html\n",
            "\n",
            "Variable 'file_17' created with file path: /content/sr_files/mcqs (24).html\n",
            "\n",
            "Variable 'file_18' created with file path: /content/sr_files/mcqs (25).html\n",
            "\n",
            "Variable 'file_19' created with file path: /content/sr_files/mcqs (26).html\n",
            "\n",
            "Variable 'file_20' created with file path: /content/sr_files/mcqs (27).html\n",
            "\n",
            "Variable 'file_21' created with file path: /content/sr_files/mcqs (28).html\n",
            "\n",
            "Variable 'file_22' created with file path: /content/sr_files/mcqs (29).html\n",
            "\n",
            "Variable 'file_23' created with file path: /content/sr_files/mcqs (3).html\n",
            "\n",
            "Variable 'file_24' created with file path: /content/sr_files/mcqs (30).html\n",
            "\n",
            "Variable 'file_25' created with file path: /content/sr_files/mcqs (31).html\n",
            "\n",
            "Variable 'file_26' created with file path: /content/sr_files/mcqs (32).html\n",
            "\n",
            "Variable 'file_27' created with file path: /content/sr_files/mcqs (33).html\n",
            "\n",
            "Variable 'file_28' created with file path: /content/sr_files/mcqs (34).html\n",
            "\n",
            "Variable 'file_29' created with file path: /content/sr_files/mcqs (35).html\n",
            "\n",
            "Variable 'file_30' created with file path: /content/sr_files/mcqs (36).html\n",
            "\n",
            "Variable 'file_31' created with file path: /content/sr_files/mcqs (37).html\n",
            "\n",
            "Variable 'file_32' created with file path: /content/sr_files/mcqs (38).html\n",
            "\n",
            "Variable 'file_33' created with file path: /content/sr_files/mcqs (39).html\n",
            "\n",
            "Variable 'file_34' created with file path: /content/sr_files/mcqs (4).html\n",
            "\n",
            "Variable 'file_35' created with file path: /content/sr_files/mcqs (40).html\n",
            "\n",
            "Variable 'file_36' created with file path: /content/sr_files/mcqs (41).html\n",
            "\n",
            "Variable 'file_37' created with file path: /content/sr_files/mcqs (42).html\n",
            "\n",
            "Variable 'file_38' created with file path: /content/sr_files/mcqs (43).html\n",
            "\n",
            "Variable 'file_39' created with file path: /content/sr_files/mcqs (44).html\n",
            "\n",
            "Variable 'file_40' created with file path: /content/sr_files/mcqs (45).html\n",
            "\n",
            "Variable 'file_41' created with file path: /content/sr_files/mcqs (46).html\n",
            "\n",
            "Variable 'file_42' created with file path: /content/sr_files/mcqs (47).html\n",
            "\n",
            "Variable 'file_43' created with file path: /content/sr_files/mcqs (48).html\n",
            "\n",
            "Variable 'file_44' created with file path: /content/sr_files/mcqs (49).html\n",
            "\n",
            "Variable 'file_45' created with file path: /content/sr_files/mcqs (5).html\n",
            "\n",
            "Variable 'file_46' created with file path: /content/sr_files/mcqs (50).html\n",
            "\n",
            "Variable 'file_47' created with file path: /content/sr_files/mcqs (51).html\n",
            "\n",
            "Variable 'file_48' created with file path: /content/sr_files/mcqs (52).html\n",
            "\n",
            "Variable 'file_49' created with file path: /content/sr_files/mcqs (53).html\n",
            "\n",
            "Variable 'file_50' created with file path: /content/sr_files/mcqs (54).html\n",
            "\n",
            "Variable 'file_51' created with file path: /content/sr_files/mcqs (55).html\n",
            "\n",
            "Variable 'file_52' created with file path: /content/sr_files/mcqs (56).html\n",
            "\n",
            "Variable 'file_53' created with file path: /content/sr_files/mcqs (57).html\n",
            "\n",
            "Variable 'file_54' created with file path: /content/sr_files/mcqs (58).html\n",
            "\n",
            "Variable 'file_55' created with file path: /content/sr_files/mcqs (59).html\n",
            "\n",
            "Variable 'file_56' created with file path: /content/sr_files/mcqs (6).html\n",
            "\n",
            "Variable 'file_57' created with file path: /content/sr_files/mcqs (60).html\n",
            "\n",
            "Variable 'file_58' created with file path: /content/sr_files/mcqs (61).html\n",
            "\n",
            "Variable 'file_59' created with file path: /content/sr_files/mcqs (62).html\n",
            "\n",
            "Variable 'file_60' created with file path: /content/sr_files/mcqs (63).html\n",
            "\n",
            "Variable 'file_61' created with file path: /content/sr_files/mcqs (64).html\n",
            "\n",
            "Variable 'file_62' created with file path: /content/sr_files/mcqs (65).html\n",
            "\n",
            "Variable 'file_63' created with file path: /content/sr_files/mcqs (66).html\n",
            "\n",
            "Variable 'file_64' created with file path: /content/sr_files/mcqs (67).html\n",
            "\n",
            "Variable 'file_65' created with file path: /content/sr_files/mcqs (68).html\n",
            "\n",
            "Variable 'file_66' created with file path: /content/sr_files/mcqs (69).html\n",
            "\n",
            "Variable 'file_67' created with file path: /content/sr_files/mcqs (7).html\n",
            "\n",
            "Variable 'file_68' created with file path: /content/sr_files/mcqs (70).html\n",
            "\n",
            "Variable 'file_69' created with file path: /content/sr_files/mcqs (71).html\n",
            "\n",
            "Variable 'file_70' created with file path: /content/sr_files/mcqs (72).html\n",
            "\n",
            "Variable 'file_71' created with file path: /content/sr_files/mcqs (73).html\n",
            "\n",
            "Variable 'file_72' created with file path: /content/sr_files/mcqs (74).html\n",
            "\n",
            "Variable 'file_73' created with file path: /content/sr_files/mcqs (75).html\n",
            "\n",
            "Variable 'file_74' created with file path: /content/sr_files/mcqs (76).html\n",
            "\n",
            "Variable 'file_75' created with file path: /content/sr_files/mcqs (77).html\n",
            "\n",
            "Variable 'file_76' created with file path: /content/sr_files/mcqs (78).html\n",
            "\n",
            "Variable 'file_77' created with file path: /content/sr_files/mcqs (79).html\n",
            "\n",
            "Variable 'file_78' created with file path: /content/sr_files/mcqs (8).html\n",
            "\n",
            "Variable 'file_79' created with file path: /content/sr_files/mcqs (80).html\n",
            "\n",
            "Variable 'file_80' created with file path: /content/sr_files/mcqs (81).html\n",
            "\n",
            "Variable 'file_81' created with file path: /content/sr_files/mcqs (82).html\n",
            "\n",
            "Variable 'file_82' created with file path: /content/sr_files/mcqs (83).html\n",
            "\n",
            "Variable 'file_83' created with file path: /content/sr_files/mcqs (84).html\n",
            "\n",
            "Variable 'file_84' created with file path: /content/sr_files/mcqs (85).html\n",
            "\n",
            "Variable 'file_85' created with file path: /content/sr_files/mcqs (9).html\n",
            "\n",
            "Variable 'file_86' created with file path: /content/sr_files/mcqs.html\n",
            "\n"
          ]
        }
      ]
    },
    {
      "cell_type": "code",
      "source": [
        "for i,a_path in enumerate(files):\n",
        "  locals()[(f'file_{i+1}')] = make_df('/content/sr_files/'+a_path)"
      ],
      "metadata": {
        "id": "YO_vqUud52Jy"
      },
      "execution_count": null,
      "outputs": []
    },
    {
      "cell_type": "code",
      "source": [
        "df = pd.DataFrame()"
      ],
      "metadata": {
        "id": "1aATbOnU-nLH"
      },
      "execution_count": null,
      "outputs": []
    },
    {
      "cell_type": "code",
      "source": [
        "for i in range(1,86):\n",
        "    df = pd.concat([df , locals()[f'file_{i+1}'] ])"
      ],
      "metadata": {
        "id": "yTOhSJzb-ae4"
      },
      "execution_count": null,
      "outputs": []
    },
    {
      "cell_type": "code",
      "source": [
        "df"
      ],
      "metadata": {
        "colab": {
          "base_uri": "https://localhost:8080/",
          "height": 580
        },
        "id": "wB6R1eN__1Aa",
        "outputId": "f3728b8b-75a5-4be0-b1a4-1d33c25b46ae"
      },
      "execution_count": null,
      "outputs": [
        {
          "output_type": "execute_result",
          "data": {
            "text/plain": [
              "                                                prompt  \\\n",
              "0    Which of the following is NOT a sex-limited role?   \n",
              "1                                    Respiration is a    \n",
              "2        controls the voluntary functions of the body.   \n",
              "3            Which of the following is wrongly paired?   \n",
              "4    Which of the following statement is NOT true r...   \n",
              "..                                                 ...   \n",
              "952   Which of the following represents series type...   \n",
              "953  A solution of L-alanine (4.0g/50 ml of 6 N HCl...   \n",
              "954            Which of the following is TRUE for YAC?   \n",
              "955  Name the deficiency in which T and B lymphocyt...   \n",
              "956  Which of the following disorder is caused due ...   \n",
              "\n",
              "                                    A  \\\n",
              "0                     Cystic fibrosis   \n",
              "1                   Oxidative process   \n",
              "2                                 PNS   \n",
              "3             Proteins – peptide bond   \n",
              "4    Group of physically linked genes   \n",
              "..                                ...   \n",
              "952                      A  →  R + P↓   \n",
              "953                            Epimer   \n",
              "954                             EMBL3   \n",
              "955                              Gout   \n",
              "956                              SCID   \n",
              "\n",
              "                                             B  \\\n",
              "0                                  Musculature   \n",
              "1                            Reductive process   \n",
              "2                                          CNS   \n",
              "3                 Nucleic acid – hydrogen bond   \n",
              "4    Represent a haploid number of chromosomes   \n",
              "..                                         ...   \n",
              "952                                 A → R → P↓   \n",
              "953                                     +10.1°   \n",
              "954                    Two fold axial symmetry   \n",
              "955                                       CVID   \n",
              "956                               Galectosemia   \n",
              "\n",
              "                                    C  \\\n",
              "0                            Dwarfism   \n",
              "1               Catabolite repression   \n",
              "2                             Neurons   \n",
              "3    Polysaccharide – glycosidic bond   \n",
              "4                Shown by linkage map   \n",
              "..                                ...   \n",
              "952                      A → R, A → P   \n",
              "953                        Enantiomer   \n",
              "954                             λgt10   \n",
              "955                   Cystic fibrosis   \n",
              "956                   Cystic fibrosis   \n",
              "\n",
              "                                                     D answer  \n",
              "0                                 Huntington’s disease      C  \n",
              "1                                 Intermediate process      A  \n",
              "2                                                  ANS      A  \n",
              "3                     Phospholipids –phosphate linkage      B  \n",
              "4    Linkage groups are not correlated with each other      D  \n",
              "..                                                 ...    ...  \n",
              "952                                             A → P↓      B  \n",
              "953                                      Chiral carbon      B  \n",
              "954                                               λZAP      D  \n",
              "955                          Maple syrup urine disease      C  \n",
              "956                                      Down syndrome      A  \n",
              "\n",
              "[957 rows x 6 columns]"
            ],
            "text/html": [
              "\n",
              "  <div id=\"df-613d3bc3-70b6-4fe0-bada-d0abf1b1c44b\" class=\"colab-df-container\">\n",
              "    <div>\n",
              "<style scoped>\n",
              "    .dataframe tbody tr th:only-of-type {\n",
              "        vertical-align: middle;\n",
              "    }\n",
              "\n",
              "    .dataframe tbody tr th {\n",
              "        vertical-align: top;\n",
              "    }\n",
              "\n",
              "    .dataframe thead th {\n",
              "        text-align: right;\n",
              "    }\n",
              "</style>\n",
              "<table border=\"1\" class=\"dataframe\">\n",
              "  <thead>\n",
              "    <tr style=\"text-align: right;\">\n",
              "      <th></th>\n",
              "      <th>prompt</th>\n",
              "      <th>A</th>\n",
              "      <th>B</th>\n",
              "      <th>C</th>\n",
              "      <th>D</th>\n",
              "      <th>answer</th>\n",
              "    </tr>\n",
              "  </thead>\n",
              "  <tbody>\n",
              "    <tr>\n",
              "      <th>0</th>\n",
              "      <td>Which of the following is NOT a sex-limited role?</td>\n",
              "      <td>Cystic fibrosis</td>\n",
              "      <td>Musculature</td>\n",
              "      <td>Dwarfism</td>\n",
              "      <td>Huntington’s disease</td>\n",
              "      <td>C</td>\n",
              "    </tr>\n",
              "    <tr>\n",
              "      <th>1</th>\n",
              "      <td>Respiration is a</td>\n",
              "      <td>Oxidative process</td>\n",
              "      <td>Reductive process</td>\n",
              "      <td>Catabolite repression</td>\n",
              "      <td>Intermediate process</td>\n",
              "      <td>A</td>\n",
              "    </tr>\n",
              "    <tr>\n",
              "      <th>2</th>\n",
              "      <td>controls the voluntary functions of the body.</td>\n",
              "      <td>PNS</td>\n",
              "      <td>CNS</td>\n",
              "      <td>Neurons</td>\n",
              "      <td>ANS</td>\n",
              "      <td>A</td>\n",
              "    </tr>\n",
              "    <tr>\n",
              "      <th>3</th>\n",
              "      <td>Which of the following is wrongly paired?</td>\n",
              "      <td>Proteins – peptide bond</td>\n",
              "      <td>Nucleic acid – hydrogen bond</td>\n",
              "      <td>Polysaccharide – glycosidic bond</td>\n",
              "      <td>Phospholipids –phosphate linkage</td>\n",
              "      <td>B</td>\n",
              "    </tr>\n",
              "    <tr>\n",
              "      <th>4</th>\n",
              "      <td>Which of the following statement is NOT true r...</td>\n",
              "      <td>Group of physically linked genes</td>\n",
              "      <td>Represent a haploid number of chromosomes</td>\n",
              "      <td>Shown by linkage map</td>\n",
              "      <td>Linkage groups are not correlated with each other</td>\n",
              "      <td>D</td>\n",
              "    </tr>\n",
              "    <tr>\n",
              "      <th>...</th>\n",
              "      <td>...</td>\n",
              "      <td>...</td>\n",
              "      <td>...</td>\n",
              "      <td>...</td>\n",
              "      <td>...</td>\n",
              "      <td>...</td>\n",
              "    </tr>\n",
              "    <tr>\n",
              "      <th>952</th>\n",
              "      <td>Which of the following represents series type...</td>\n",
              "      <td>A  →  R + P↓</td>\n",
              "      <td>A → R → P↓</td>\n",
              "      <td>A → R, A → P</td>\n",
              "      <td>A → P↓</td>\n",
              "      <td>B</td>\n",
              "    </tr>\n",
              "    <tr>\n",
              "      <th>953</th>\n",
              "      <td>A solution of L-alanine (4.0g/50 ml of 6 N HCl...</td>\n",
              "      <td>Epimer</td>\n",
              "      <td>+10.1°</td>\n",
              "      <td>Enantiomer</td>\n",
              "      <td>Chiral carbon</td>\n",
              "      <td>B</td>\n",
              "    </tr>\n",
              "    <tr>\n",
              "      <th>954</th>\n",
              "      <td>Which of the following is TRUE for YAC?</td>\n",
              "      <td>EMBL3</td>\n",
              "      <td>Two fold axial symmetry</td>\n",
              "      <td>λgt10</td>\n",
              "      <td>λZAP</td>\n",
              "      <td>D</td>\n",
              "    </tr>\n",
              "    <tr>\n",
              "      <th>955</th>\n",
              "      <td>Name the deficiency in which T and B lymphocyt...</td>\n",
              "      <td>Gout</td>\n",
              "      <td>CVID</td>\n",
              "      <td>Cystic fibrosis</td>\n",
              "      <td>Maple syrup urine disease</td>\n",
              "      <td>C</td>\n",
              "    </tr>\n",
              "    <tr>\n",
              "      <th>956</th>\n",
              "      <td>Which of the following disorder is caused due ...</td>\n",
              "      <td>SCID</td>\n",
              "      <td>Galectosemia</td>\n",
              "      <td>Cystic fibrosis</td>\n",
              "      <td>Down syndrome</td>\n",
              "      <td>A</td>\n",
              "    </tr>\n",
              "  </tbody>\n",
              "</table>\n",
              "<p>957 rows × 6 columns</p>\n",
              "</div>\n",
              "    <div class=\"colab-df-buttons\">\n",
              "\n",
              "  <div class=\"colab-df-container\">\n",
              "    <button class=\"colab-df-convert\" onclick=\"convertToInteractive('df-613d3bc3-70b6-4fe0-bada-d0abf1b1c44b')\"\n",
              "            title=\"Convert this dataframe to an interactive table.\"\n",
              "            style=\"display:none;\">\n",
              "\n",
              "  <svg xmlns=\"http://www.w3.org/2000/svg\" height=\"24px\" viewBox=\"0 -960 960 960\">\n",
              "    <path d=\"M120-120v-720h720v720H120Zm60-500h600v-160H180v160Zm220 220h160v-160H400v160Zm0 220h160v-160H400v160ZM180-400h160v-160H180v160Zm440 0h160v-160H620v160ZM180-180h160v-160H180v160Zm440 0h160v-160H620v160Z\"/>\n",
              "  </svg>\n",
              "    </button>\n",
              "\n",
              "  <style>\n",
              "    .colab-df-container {\n",
              "      display:flex;\n",
              "      gap: 12px;\n",
              "    }\n",
              "\n",
              "    .colab-df-convert {\n",
              "      background-color: #E8F0FE;\n",
              "      border: none;\n",
              "      border-radius: 50%;\n",
              "      cursor: pointer;\n",
              "      display: none;\n",
              "      fill: #1967D2;\n",
              "      height: 32px;\n",
              "      padding: 0 0 0 0;\n",
              "      width: 32px;\n",
              "    }\n",
              "\n",
              "    .colab-df-convert:hover {\n",
              "      background-color: #E2EBFA;\n",
              "      box-shadow: 0px 1px 2px rgba(60, 64, 67, 0.3), 0px 1px 3px 1px rgba(60, 64, 67, 0.15);\n",
              "      fill: #174EA6;\n",
              "    }\n",
              "\n",
              "    .colab-df-buttons div {\n",
              "      margin-bottom: 4px;\n",
              "    }\n",
              "\n",
              "    [theme=dark] .colab-df-convert {\n",
              "      background-color: #3B4455;\n",
              "      fill: #D2E3FC;\n",
              "    }\n",
              "\n",
              "    [theme=dark] .colab-df-convert:hover {\n",
              "      background-color: #434B5C;\n",
              "      box-shadow: 0px 1px 3px 1px rgba(0, 0, 0, 0.15);\n",
              "      filter: drop-shadow(0px 1px 2px rgba(0, 0, 0, 0.3));\n",
              "      fill: #FFFFFF;\n",
              "    }\n",
              "  </style>\n",
              "\n",
              "    <script>\n",
              "      const buttonEl =\n",
              "        document.querySelector('#df-613d3bc3-70b6-4fe0-bada-d0abf1b1c44b button.colab-df-convert');\n",
              "      buttonEl.style.display =\n",
              "        google.colab.kernel.accessAllowed ? 'block' : 'none';\n",
              "\n",
              "      async function convertToInteractive(key) {\n",
              "        const element = document.querySelector('#df-613d3bc3-70b6-4fe0-bada-d0abf1b1c44b');\n",
              "        const dataTable =\n",
              "          await google.colab.kernel.invokeFunction('convertToInteractive',\n",
              "                                                    [key], {});\n",
              "        if (!dataTable) return;\n",
              "\n",
              "        const docLinkHtml = 'Like what you see? Visit the ' +\n",
              "          '<a target=\"_blank\" href=https://colab.research.google.com/notebooks/data_table.ipynb>data table notebook</a>'\n",
              "          + ' to learn more about interactive tables.';\n",
              "        element.innerHTML = '';\n",
              "        dataTable['output_type'] = 'display_data';\n",
              "        await google.colab.output.renderOutput(dataTable, element);\n",
              "        const docLink = document.createElement('div');\n",
              "        docLink.innerHTML = docLinkHtml;\n",
              "        element.appendChild(docLink);\n",
              "      }\n",
              "    </script>\n",
              "  </div>\n",
              "\n",
              "\n",
              "<div id=\"df-16d6e5ca-ce0f-496a-b801-3dcf0e4ee195\">\n",
              "  <button class=\"colab-df-quickchart\" onclick=\"quickchart('df-16d6e5ca-ce0f-496a-b801-3dcf0e4ee195')\"\n",
              "            title=\"Suggest charts.\"\n",
              "            style=\"display:none;\">\n",
              "\n",
              "<svg xmlns=\"http://www.w3.org/2000/svg\" height=\"24px\"viewBox=\"0 0 24 24\"\n",
              "     width=\"24px\">\n",
              "    <g>\n",
              "        <path d=\"M19 3H5c-1.1 0-2 .9-2 2v14c0 1.1.9 2 2 2h14c1.1 0 2-.9 2-2V5c0-1.1-.9-2-2-2zM9 17H7v-7h2v7zm4 0h-2V7h2v10zm4 0h-2v-4h2v4z\"/>\n",
              "    </g>\n",
              "</svg>\n",
              "  </button>\n",
              "\n",
              "<style>\n",
              "  .colab-df-quickchart {\n",
              "    background-color: #E8F0FE;\n",
              "    border: none;\n",
              "    border-radius: 50%;\n",
              "    cursor: pointer;\n",
              "    display: none;\n",
              "    fill: #1967D2;\n",
              "    height: 32px;\n",
              "    padding: 0 0 0 0;\n",
              "    width: 32px;\n",
              "  }\n",
              "\n",
              "  .colab-df-quickchart:hover {\n",
              "    background-color: #E2EBFA;\n",
              "    box-shadow: 0px 1px 2px rgba(60, 64, 67, 0.3), 0px 1px 3px 1px rgba(60, 64, 67, 0.15);\n",
              "    fill: #174EA6;\n",
              "  }\n",
              "\n",
              "  [theme=dark] .colab-df-quickchart {\n",
              "    background-color: #3B4455;\n",
              "    fill: #D2E3FC;\n",
              "  }\n",
              "\n",
              "  [theme=dark] .colab-df-quickchart:hover {\n",
              "    background-color: #434B5C;\n",
              "    box-shadow: 0px 1px 3px 1px rgba(0, 0, 0, 0.15);\n",
              "    filter: drop-shadow(0px 1px 2px rgba(0, 0, 0, 0.3));\n",
              "    fill: #FFFFFF;\n",
              "  }\n",
              "</style>\n",
              "\n",
              "  <script>\n",
              "    async function quickchart(key) {\n",
              "      const charts = await google.colab.kernel.invokeFunction(\n",
              "          'suggestCharts', [key], {});\n",
              "    }\n",
              "    (() => {\n",
              "      let quickchartButtonEl =\n",
              "        document.querySelector('#df-16d6e5ca-ce0f-496a-b801-3dcf0e4ee195 button');\n",
              "      quickchartButtonEl.style.display =\n",
              "        google.colab.kernel.accessAllowed ? 'block' : 'none';\n",
              "    })();\n",
              "  </script>\n",
              "</div>\n",
              "    </div>\n",
              "  </div>\n"
            ]
          },
          "metadata": {},
          "execution_count": 41
        }
      ]
    },
    {
      "cell_type": "code",
      "source": [
        "df.prompt = df.prompt.apply(lambda text : text.replace(\"_\",\"\"))"
      ],
      "metadata": {
        "id": "u9nVQwrL_6gn"
      },
      "execution_count": null,
      "outputs": []
    },
    {
      "cell_type": "code",
      "source": [
        "df = df.sample(frac=1).reset_index(drop=True)"
      ],
      "metadata": {
        "id": "XLwB0rldBpIF"
      },
      "execution_count": null,
      "outputs": []
    },
    {
      "cell_type": "code",
      "source": [
        "df1 = pd.read_excel('/content/with E1.xlsx')"
      ],
      "metadata": {
        "id": "3jQO1LViB6FP"
      },
      "execution_count": null,
      "outputs": []
    },
    {
      "cell_type": "code",
      "source": [
        "df2 = pd.read_excel(\"/content/no E.xlsx\")"
      ],
      "metadata": {
        "id": "I4cruk65COCF"
      },
      "execution_count": null,
      "outputs": []
    },
    {
      "cell_type": "code",
      "source": [
        "df3 = pd.read_csv('new_df.csv')"
      ],
      "metadata": {
        "id": "KYr3jqUxCTr_"
      },
      "execution_count": null,
      "outputs": []
    },
    {
      "cell_type": "code",
      "source": [
        "df2 = df2[['prompt','A','B','C','D','E','answer']]\n"
      ],
      "metadata": {
        "id": "jy5VtR52H4uR"
      },
      "execution_count": null,
      "outputs": []
    },
    {
      "cell_type": "code",
      "source": [
        "df1 = df1[['prompt','A','B','C','D','E','answer']]"
      ],
      "metadata": {
        "id": "UM1s8V8JJKPe"
      },
      "execution_count": null,
      "outputs": []
    },
    {
      "cell_type": "code",
      "source": [
        "df1['D'] = df1['B'].sample(frac=1).reset_index(drop=True)"
      ],
      "metadata": {
        "id": "DmjddMBsKlQM"
      },
      "execution_count": null,
      "outputs": []
    },
    {
      "cell_type": "code",
      "source": [
        "df12 = pd.concat([df1,df2])"
      ],
      "metadata": {
        "id": "RIPQNjimKYvy"
      },
      "execution_count": null,
      "outputs": []
    },
    {
      "cell_type": "code",
      "source": [
        "df12=df12.reset_index(drop=True)"
      ],
      "metadata": {
        "id": "0vl-RX9AK3LJ"
      },
      "execution_count": null,
      "outputs": []
    },
    {
      "cell_type": "code",
      "source": [
        "df['E'] = df12['A'].sample(frac=1).reset_index(drop=True)"
      ],
      "metadata": {
        "id": "4h-UGjvDCXTA"
      },
      "execution_count": null,
      "outputs": []
    },
    {
      "cell_type": "code",
      "source": [
        "df = df[ ['prompt','A','B','C','D','E','answer']]"
      ],
      "metadata": {
        "id": "HhBP9LrfC1wi"
      },
      "execution_count": null,
      "outputs": []
    },
    {
      "cell_type": "code",
      "source": [
        "df1['D'] = df1['B'].sample(frac=1).reset_index(drop=True)"
      ],
      "metadata": {
        "id": "gl3In75UDSJq"
      },
      "execution_count": null,
      "outputs": []
    },
    {
      "cell_type": "code",
      "source": [
        "df2['E'] = df2['C'].sample(frac=1).reset_index(drop=True)"
      ],
      "metadata": {
        "id": "Nw0S2QTXC2Qm"
      },
      "execution_count": null,
      "outputs": []
    },
    {
      "cell_type": "code",
      "source": [
        "main = pd.concat([df,df1,df2])"
      ],
      "metadata": {
        "id": "3y5GfLBmDu74"
      },
      "execution_count": null,
      "outputs": []
    },
    {
      "cell_type": "code",
      "source": [
        "main = main.sample(frac=1).reset_index(drop=True)"
      ],
      "metadata": {
        "id": "4CWfazgYD2iq"
      },
      "execution_count": null,
      "outputs": []
    },
    {
      "cell_type": "code",
      "source": [
        "main.to_csv('new_df.csv')"
      ],
      "metadata": {
        "id": "dfdlKHdMD3Pi"
      },
      "execution_count": null,
      "outputs": []
    },
    {
      "cell_type": "code",
      "source": [
        "v = pd.read_csv('new_val.csv')"
      ],
      "metadata": {
        "id": "zFuFchUanbbQ"
      },
      "execution_count": null,
      "outputs": []
    },
    {
      "cell_type": "code",
      "source": [
        "v.drop('Unnamed: 0',axis=1,inplace=True)"
      ],
      "metadata": {
        "id": "yS_QLj83Lp7l"
      },
      "execution_count": null,
      "outputs": []
    },
    {
      "cell_type": "code",
      "source": [
        "v.shape"
      ],
      "metadata": {
        "colab": {
          "base_uri": "https://localhost:8080/"
        },
        "id": "N1-yA9TSMFE0",
        "outputId": "128463f4-c4cc-40f0-f9ca-8942c48c2b09"
      },
      "execution_count": null,
      "outputs": [
        {
          "output_type": "execute_result",
          "data": {
            "text/plain": [
              "(150, 7)"
            ]
          },
          "metadata": {},
          "execution_count": 35
        }
      ]
    },
    {
      "cell_type": "code",
      "source": [
        "val = pd.concat([df12.loc[0:75], df.loc[0:75]])"
      ],
      "metadata": {
        "id": "0erA6mFCLtkF"
      },
      "execution_count": null,
      "outputs": []
    },
    {
      "cell_type": "code",
      "source": [
        "val.to_csv('valid.csv')"
      ],
      "metadata": {
        "id": "KtZhaKWnMJsk"
      },
      "execution_count": null,
      "outputs": []
    },
    {
      "cell_type": "code",
      "source": [
        "new_train = pd.concat([df12.loc[75:], df.loc[75:]])"
      ],
      "metadata": {
        "id": "m_t-lGnQO5CP"
      },
      "execution_count": null,
      "outputs": []
    },
    {
      "cell_type": "code",
      "source": [
        "new_train.to_csv('new_train.csv')"
      ],
      "metadata": {
        "id": "aUY--t0hPH1O"
      },
      "execution_count": null,
      "outputs": []
    },
    {
      "cell_type": "code",
      "source": [],
      "metadata": {
        "id": "eVuz4uqAPMAB"
      },
      "execution_count": null,
      "outputs": []
    }
  ]
}